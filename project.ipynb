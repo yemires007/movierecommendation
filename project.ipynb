{
 "cells": [
  {
   "cell_type": "code",
   "execution_count": 15,
   "metadata": {},
   "outputs": [],
   "source": [
    "import pandas as pd\n",
    "from sklearn.feature_extraction.text import TfidfVectorizer, CountVectorizer\n",
    "from sklearn.metrics.pairwise import linear_kernel, cosine_similarity\n",
    "from nltk.stem.snowball import SnowballStemmer\n",
    "from nltk.stem.wordnet import WordNetLemmatizer\n",
    "from nltk.corpus import wordnet\n",
    "from nltk.corpus import stopwords\n",
    "from nltk.tokenize import word_tokenize\n",
    "from collections import defaultdict\n",
    "#imprinting pprint for pretty printing\n",
    "from pprint import pprint"
   ]
  },
  {
   "cell_type": "code",
   "execution_count": 16,
   "metadata": {},
   "outputs": [],
   "source": [
    "df1 = pd.read_csv('dummy_interaction.csv')\n",
    "df2 = pd.read_csv(\"rG-SClckUS6ydztVjFWEg.csv\")\n",
    "df3 = pd.read_csv(\"s3_bucket_links_1.csv\")"
   ]
  },
  {
   "cell_type": "code",
   "execution_count": 17,
   "metadata": {},
   "outputs": [
    {
     "name": "stdout",
     "output_type": "stream",
     "text": [
      "<class 'pandas.core.frame.DataFrame'>\n",
      "Int64Index: 1100 entries, 0 to 1099\n",
      "Data columns (total 12 columns):\n",
      " #   Column              Non-Null Count  Dtype \n",
      "---  ------              --------------  ----- \n",
      " 0   user_id             1100 non-null   object\n",
      " 1   item_id             1100 non-null   object\n",
      " 2   event_type          979 non-null    object\n",
      " 3   video_duration      1100 non-null   int64 \n",
      " 4   duration_watched    1100 non-null   int64 \n",
      " 5   TIMESTAMP           1100 non-null   int64 \n",
      " 6   sno                 1100 non-null   int64 \n",
      " 7   genres              1100 non-null   object\n",
      " 8   childlabel          1100 non-null   object\n",
      " 9   creation_timestamp  1100 non-null   int64 \n",
      " 10  Object Key          1100 non-null   object\n",
      " 11  URL                 1100 non-null   object\n",
      "dtypes: int64(5), object(7)\n",
      "memory usage: 111.7+ KB\n"
     ]
    }
   ],
   "source": [
    "merged_df = pd.merge(df1, df2, on='item_id', how='inner')\n",
    "# Merge df1 and df2 on 'ID' column\n",
    "df =  pd.merge(merged_df, df3, on='item_id', how='inner')\n",
    "df.info()"
   ]
  },
  {
   "cell_type": "code",
   "execution_count": 18,
   "metadata": {},
   "outputs": [],
   "source": [
    "df.dropna(inplace=True)"
   ]
  },
  {
   "cell_type": "code",
   "execution_count": 19,
   "metadata": {},
   "outputs": [
    {
     "data": {
      "text/plain": [
       "Index(['user_id', 'item_id', 'event_type', 'video_duration',\n",
       "       'duration_watched', 'TIMESTAMP', 'sno', 'genres', 'childlabel',\n",
       "       'creation_timestamp', 'Object Key', 'URL'],\n",
       "      dtype='object')"
      ]
     },
     "execution_count": 19,
     "metadata": {},
     "output_type": "execute_result"
    }
   ],
   "source": [
    "df.columns"
   ]
  },
  {
   "cell_type": "code",
   "execution_count": 20,
   "metadata": {},
   "outputs": [
    {
     "data": {
      "text/html": [
       "<div>\n",
       "<style scoped>\n",
       "    .dataframe tbody tr th:only-of-type {\n",
       "        vertical-align: middle;\n",
       "    }\n",
       "\n",
       "    .dataframe tbody tr th {\n",
       "        vertical-align: top;\n",
       "    }\n",
       "\n",
       "    .dataframe thead th {\n",
       "        text-align: right;\n",
       "    }\n",
       "</style>\n",
       "<table border=\"1\" class=\"dataframe\">\n",
       "  <thead>\n",
       "    <tr style=\"text-align: right;\">\n",
       "      <th></th>\n",
       "      <th>user_id</th>\n",
       "      <th>item_id</th>\n",
       "      <th>event_type</th>\n",
       "      <th>genres</th>\n",
       "      <th>Object Key</th>\n",
       "      <th>childlabel</th>\n",
       "    </tr>\n",
       "  </thead>\n",
       "  <tbody>\n",
       "    <tr>\n",
       "      <th>0</th>\n",
       "      <td>5107502f985aa0b73854b067bc41f4b3</td>\n",
       "      <td>26cbcb970c9963d063f7d587fe7ff5a9</td>\n",
       "      <td>Liked</td>\n",
       "      <td>Outdoors,Nature,Water,Person,Adult,Female,Land...</td>\n",
       "      <td>shortVideos/26cbcb970c9963d063f7d587fe7ff5a9.mp4</td>\n",
       "      <td>nature,outdoors,person,human,scenery,water,wat...</td>\n",
       "    </tr>\n",
       "    <tr>\n",
       "      <th>1</th>\n",
       "      <td>27b0eb67497e35b7cfa94d21f04dac6a</td>\n",
       "      <td>26cbcb970c9963d063f7d587fe7ff5a9</td>\n",
       "      <td>Liked</td>\n",
       "      <td>Outdoors,Nature,Water,Person,Adult,Female,Land...</td>\n",
       "      <td>shortVideos/26cbcb970c9963d063f7d587fe7ff5a9.mp4</td>\n",
       "      <td>nature,outdoors,person,human,scenery,water,wat...</td>\n",
       "    </tr>\n",
       "    <tr>\n",
       "      <th>3</th>\n",
       "      <td>4d9389046a07a79e6f73941cbfe05406</td>\n",
       "      <td>26cbcb970c9963d063f7d587fe7ff5a9</td>\n",
       "      <td>Shared</td>\n",
       "      <td>Outdoors,Nature,Water,Person,Adult,Female,Land...</td>\n",
       "      <td>shortVideos/26cbcb970c9963d063f7d587fe7ff5a9.mp4</td>\n",
       "      <td>nature,outdoors,person,human,scenery,water,wat...</td>\n",
       "    </tr>\n",
       "    <tr>\n",
       "      <th>5</th>\n",
       "      <td>4b6cd851e7edd103e4777fe920ffebe4</td>\n",
       "      <td>26cbcb970c9963d063f7d587fe7ff5a9</td>\n",
       "      <td>Liked</td>\n",
       "      <td>Outdoors,Nature,Water,Person,Adult,Female,Land...</td>\n",
       "      <td>shortVideos/26cbcb970c9963d063f7d587fe7ff5a9.mp4</td>\n",
       "      <td>nature,outdoors,person,human,scenery,water,wat...</td>\n",
       "    </tr>\n",
       "    <tr>\n",
       "      <th>6</th>\n",
       "      <td>21131740dc09d6a532fd9d23288e79d4</td>\n",
       "      <td>26cbcb970c9963d063f7d587fe7ff5a9</td>\n",
       "      <td>Liked</td>\n",
       "      <td>Outdoors,Nature,Water,Person,Adult,Female,Land...</td>\n",
       "      <td>shortVideos/26cbcb970c9963d063f7d587fe7ff5a9.mp4</td>\n",
       "      <td>nature,outdoors,person,human,scenery,water,wat...</td>\n",
       "    </tr>\n",
       "    <tr>\n",
       "      <th>...</th>\n",
       "      <td>...</td>\n",
       "      <td>...</td>\n",
       "      <td>...</td>\n",
       "      <td>...</td>\n",
       "      <td>...</td>\n",
       "      <td>...</td>\n",
       "    </tr>\n",
       "    <tr>\n",
       "      <th>1095</th>\n",
       "      <td>f468121171bac06d7500fc1f937c4b11</td>\n",
       "      <td>23070d03a2b374b078414bf73666a4df</td>\n",
       "      <td>Shared</td>\n",
       "      <td>Person,Animal,Adult,Male,Bird,Parrot,Female,Pl...</td>\n",
       "      <td>shortVideos/23070d03a2b374b078414bf73666a4df.mp4</td>\n",
       "      <td>adult,animal,bird,female,head,male,man,parakee...</td>\n",
       "    </tr>\n",
       "    <tr>\n",
       "      <th>1096</th>\n",
       "      <td>d3118133336540047cc07627c40215fe</td>\n",
       "      <td>23070d03a2b374b078414bf73666a4df</td>\n",
       "      <td>Liked</td>\n",
       "      <td>Person,Animal,Adult,Male,Bird,Parrot,Female,Pl...</td>\n",
       "      <td>shortVideos/23070d03a2b374b078414bf73666a4df.mp4</td>\n",
       "      <td>adult,animal,bird,female,head,male,man,parakee...</td>\n",
       "    </tr>\n",
       "    <tr>\n",
       "      <th>1097</th>\n",
       "      <td>07907c62615bb3154efd910e84b5c279</td>\n",
       "      <td>23070d03a2b374b078414bf73666a4df</td>\n",
       "      <td>Shared</td>\n",
       "      <td>Person,Animal,Adult,Male,Bird,Parrot,Female,Pl...</td>\n",
       "      <td>shortVideos/23070d03a2b374b078414bf73666a4df.mp4</td>\n",
       "      <td>adult,animal,bird,female,head,male,man,parakee...</td>\n",
       "    </tr>\n",
       "    <tr>\n",
       "      <th>1098</th>\n",
       "      <td>de9f506fd891d7d98b0e93bcb99d464f</td>\n",
       "      <td>23070d03a2b374b078414bf73666a4df</td>\n",
       "      <td>Liked</td>\n",
       "      <td>Person,Animal,Adult,Male,Bird,Parrot,Female,Pl...</td>\n",
       "      <td>shortVideos/23070d03a2b374b078414bf73666a4df.mp4</td>\n",
       "      <td>adult,animal,bird,female,head,male,man,parakee...</td>\n",
       "    </tr>\n",
       "    <tr>\n",
       "      <th>1099</th>\n",
       "      <td>d3118133336540047cc07627c40215fe</td>\n",
       "      <td>23070d03a2b374b078414bf73666a4df</td>\n",
       "      <td>Shared</td>\n",
       "      <td>Person,Animal,Adult,Male,Bird,Parrot,Female,Pl...</td>\n",
       "      <td>shortVideos/23070d03a2b374b078414bf73666a4df.mp4</td>\n",
       "      <td>adult,animal,bird,female,head,male,man,parakee...</td>\n",
       "    </tr>\n",
       "  </tbody>\n",
       "</table>\n",
       "<p>979 rows × 6 columns</p>\n",
       "</div>"
      ],
      "text/plain": [
       "                               user_id                           item_id  \\\n",
       "0     5107502f985aa0b73854b067bc41f4b3  26cbcb970c9963d063f7d587fe7ff5a9   \n",
       "1     27b0eb67497e35b7cfa94d21f04dac6a  26cbcb970c9963d063f7d587fe7ff5a9   \n",
       "3     4d9389046a07a79e6f73941cbfe05406  26cbcb970c9963d063f7d587fe7ff5a9   \n",
       "5     4b6cd851e7edd103e4777fe920ffebe4  26cbcb970c9963d063f7d587fe7ff5a9   \n",
       "6     21131740dc09d6a532fd9d23288e79d4  26cbcb970c9963d063f7d587fe7ff5a9   \n",
       "...                                ...                               ...   \n",
       "1095  f468121171bac06d7500fc1f937c4b11  23070d03a2b374b078414bf73666a4df   \n",
       "1096  d3118133336540047cc07627c40215fe  23070d03a2b374b078414bf73666a4df   \n",
       "1097  07907c62615bb3154efd910e84b5c279  23070d03a2b374b078414bf73666a4df   \n",
       "1098  de9f506fd891d7d98b0e93bcb99d464f  23070d03a2b374b078414bf73666a4df   \n",
       "1099  d3118133336540047cc07627c40215fe  23070d03a2b374b078414bf73666a4df   \n",
       "\n",
       "     event_type                                             genres  \\\n",
       "0         Liked  Outdoors,Nature,Water,Person,Adult,Female,Land...   \n",
       "1         Liked  Outdoors,Nature,Water,Person,Adult,Female,Land...   \n",
       "3        Shared  Outdoors,Nature,Water,Person,Adult,Female,Land...   \n",
       "5         Liked  Outdoors,Nature,Water,Person,Adult,Female,Land...   \n",
       "6         Liked  Outdoors,Nature,Water,Person,Adult,Female,Land...   \n",
       "...         ...                                                ...   \n",
       "1095     Shared  Person,Animal,Adult,Male,Bird,Parrot,Female,Pl...   \n",
       "1096      Liked  Person,Animal,Adult,Male,Bird,Parrot,Female,Pl...   \n",
       "1097     Shared  Person,Animal,Adult,Male,Bird,Parrot,Female,Pl...   \n",
       "1098      Liked  Person,Animal,Adult,Male,Bird,Parrot,Female,Pl...   \n",
       "1099     Shared  Person,Animal,Adult,Male,Bird,Parrot,Female,Pl...   \n",
       "\n",
       "                                            Object Key  \\\n",
       "0     shortVideos/26cbcb970c9963d063f7d587fe7ff5a9.mp4   \n",
       "1     shortVideos/26cbcb970c9963d063f7d587fe7ff5a9.mp4   \n",
       "3     shortVideos/26cbcb970c9963d063f7d587fe7ff5a9.mp4   \n",
       "5     shortVideos/26cbcb970c9963d063f7d587fe7ff5a9.mp4   \n",
       "6     shortVideos/26cbcb970c9963d063f7d587fe7ff5a9.mp4   \n",
       "...                                                ...   \n",
       "1095  shortVideos/23070d03a2b374b078414bf73666a4df.mp4   \n",
       "1096  shortVideos/23070d03a2b374b078414bf73666a4df.mp4   \n",
       "1097  shortVideos/23070d03a2b374b078414bf73666a4df.mp4   \n",
       "1098  shortVideos/23070d03a2b374b078414bf73666a4df.mp4   \n",
       "1099  shortVideos/23070d03a2b374b078414bf73666a4df.mp4   \n",
       "\n",
       "                                             childlabel  \n",
       "0     nature,outdoors,person,human,scenery,water,wat...  \n",
       "1     nature,outdoors,person,human,scenery,water,wat...  \n",
       "3     nature,outdoors,person,human,scenery,water,wat...  \n",
       "5     nature,outdoors,person,human,scenery,water,wat...  \n",
       "6     nature,outdoors,person,human,scenery,water,wat...  \n",
       "...                                                 ...  \n",
       "1095  adult,animal,bird,female,head,male,man,parakee...  \n",
       "1096  adult,animal,bird,female,head,male,man,parakee...  \n",
       "1097  adult,animal,bird,female,head,male,man,parakee...  \n",
       "1098  adult,animal,bird,female,head,male,man,parakee...  \n",
       "1099  adult,animal,bird,female,head,male,man,parakee...  \n",
       "\n",
       "[979 rows x 6 columns]"
      ]
     },
     "execution_count": 20,
     "metadata": {},
     "output_type": "execute_result"
    }
   ],
   "source": [
    "movies = df[['user_id', 'item_id', 'event_type', 'genres', 'Object Key', 'childlabel']]\n",
    "movies\n"
   ]
  },
  {
   "cell_type": "code",
   "execution_count": 21,
   "metadata": {},
   "outputs": [],
   "source": [
    "# Define a mapping for movie_id and user_id\n",
    "#movie_id_map = {item_id: i for i, item_id in enumerate(movies['item_id'].unique())}\n",
    "#user_id_map = {user_id: i for i, user_id in enumerate(movies['user_id'].unique())}\n",
    "# event_id_map = {event_type: i for i, event_type in enumerate(df['event_type'].unique())}\n",
    "\n",
    "#movies['item_id'] = movies['item_id'].map(movie_id_map)\n",
    "#movies['user_id'] = movies['user_id'].map(user_id_map)"
   ]
  },
  {
   "cell_type": "code",
   "execution_count": 22,
   "metadata": {},
   "outputs": [
    {
     "name": "stderr",
     "output_type": "stream",
     "text": [
      "<ipython-input-22-19cf2b08516e>:1: SettingWithCopyWarning: \n",
      "A value is trying to be set on a copy of a slice from a DataFrame.\n",
      "Try using .loc[row_indexer,col_indexer] = value instead\n",
      "\n",
      "See the caveats in the documentation: https://pandas.pydata.org/pandas-docs/stable/user_guide/indexing.html#returning-a-view-versus-a-copy\n",
      "  movies['object_key'] = movies['Object Key']\n"
     ]
    }
   ],
   "source": [
    "\n",
    "movies['object_key'] = movies['Object Key']\n",
    "#movies.drop('Object Key', axis=1)"
   ]
  },
  {
   "cell_type": "code",
   "execution_count": 23,
   "metadata": {},
   "outputs": [],
   "source": [
    "#movies['tags'] = movies['genres'] + movies['event_type']"
   ]
  },
  {
   "cell_type": "code",
   "execution_count": 24,
   "metadata": {},
   "outputs": [
    {
     "name": "stdout",
     "output_type": "stream",
     "text": [
      "<class 'pandas.core.frame.DataFrame'>\n",
      "Int64Index: 979 entries, 0 to 1099\n",
      "Data columns (total 7 columns):\n",
      " #   Column      Non-Null Count  Dtype \n",
      "---  ------      --------------  ----- \n",
      " 0   user_id     979 non-null    object\n",
      " 1   item_id     979 non-null    object\n",
      " 2   event_type  979 non-null    object\n",
      " 3   genres      979 non-null    object\n",
      " 4   Object Key  979 non-null    object\n",
      " 5   childlabel  979 non-null    object\n",
      " 6   object_key  979 non-null    object\n",
      "dtypes: object(7)\n",
      "memory usage: 61.2+ KB\n"
     ]
    }
   ],
   "source": [
    "movies.info()"
   ]
  },
  {
   "cell_type": "code",
   "execution_count": null,
   "metadata": {},
   "outputs": [],
   "source": [
    "\n"
   ]
  },
  {
   "cell_type": "code",
   "execution_count": 25,
   "metadata": {},
   "outputs": [],
   "source": [
    "new_movies = movies.drop(columns =['childlabel', 'Object Key', 'genres'])"
   ]
  },
  {
   "cell_type": "code",
   "execution_count": 12,
   "metadata": {},
   "outputs": [],
   "source": [
    "new_movies.head(3)\n",
    "import random\n",
    "#new_movies['genres'] = random.choice(new_movies['genres'])\n",
    "new_movies['genres'] = new_movies['genres'][0]"
   ]
  },
  {
   "cell_type": "code",
   "execution_count": 14,
   "metadata": {},
   "outputs": [
    {
     "data": {
      "text/plain": [
       "0       Outdoors,Nature,Water,Person,Adult,Female,Land...\n",
       "1       Outdoors,Nature,Water,Person,Adult,Female,Land...\n",
       "3       Outdoors,Nature,Water,Person,Adult,Female,Land...\n",
       "5       Outdoors,Nature,Water,Person,Adult,Female,Land...\n",
       "6       Outdoors,Nature,Water,Person,Adult,Female,Land...\n",
       "                              ...                        \n",
       "1095    Outdoors,Nature,Water,Person,Adult,Female,Land...\n",
       "1096    Outdoors,Nature,Water,Person,Adult,Female,Land...\n",
       "1097    Outdoors,Nature,Water,Person,Adult,Female,Land...\n",
       "1098    Outdoors,Nature,Water,Person,Adult,Female,Land...\n",
       "1099    Outdoors,Nature,Water,Person,Adult,Female,Land...\n",
       "Name: genres, Length: 979, dtype: object"
      ]
     },
     "execution_count": 14,
     "metadata": {},
     "output_type": "execute_result"
    }
   ],
   "source": [
    "new_movies['genres']"
   ]
  },
  {
   "cell_type": "code",
   "execution_count": null,
   "metadata": {},
   "outputs": [],
   "source": [
    "# Returns the list top 3 elements or entire list; whichever is more.\n",
    "def get_list(x):\n",
    "    if isinstance(x, list):\n",
    "        names = [i['name'] for i in x]\n",
    "        #Check if more than 3 elements exist. If yes, return only first three. If no, return entire list.\n",
    "        if len(names) > 3:\n",
    "            names = names[:3]\n",
    "        return names\n",
    "\n",
    "    #Return empty list in case of missing/malformed data\n",
    "    return []"
   ]
  },
  {
   "cell_type": "code",
   "execution_count": null,
   "metadata": {},
   "outputs": [],
   "source": [
    "new_movies['genres'] = new_movies['genres'].apply(get_list)"
   ]
  },
  {
   "cell_type": "code",
   "execution_count": null,
   "metadata": {},
   "outputs": [],
   "source": [
    "new_movies"
   ]
  },
  {
   "cell_type": "code",
   "execution_count": null,
   "metadata": {},
   "outputs": [],
   "source": [
    "import re\n",
    "\n",
    "def clean_text(text):\n",
    "    text = re.sub('\\'', \"\", text)\n",
    "    text = re.sub('[^a-zA-Z]', \" \", text)\n",
    "    text = ' '.join(text.split())\n",
    "    text = text.lower()\n",
    "\n",
    "    return text"
   ]
  },
  {
   "cell_type": "code",
   "execution_count": null,
   "metadata": {},
   "outputs": [],
   "source": [
    "new_movies.loc[:, 'event_type']= new_movies.loc[:, 'event_type'].apply(clean_text)"
   ]
  },
  {
   "cell_type": "code",
   "execution_count": null,
   "metadata": {},
   "outputs": [],
   "source": [
    "new_movies = pd.get_dummies(new_movies, columns=['event_type'], prefix='', prefix_sep='')"
   ]
  },
  {
   "cell_type": "code",
   "execution_count": null,
   "metadata": {},
   "outputs": [],
   "source": [
    "new_movies\n"
   ]
  },
  {
   "cell_type": "code",
   "execution_count": null,
   "metadata": {},
   "outputs": [],
   "source": [
    "from sklearn.feature_extraction.text  import CountVectorizer\n",
    "new_movies.info()"
   ]
  },
  {
   "cell_type": "code",
   "execution_count": null,
   "metadata": {},
   "outputs": [],
   "source": [
    "#cv = CountVectorizer(max_features = 1000, stop_words = 'english')"
   ]
  },
  {
   "cell_type": "code",
   "execution_count": null,
   "metadata": {},
   "outputs": [],
   "source": [
    "#new_movies['new_event'] = new_movies['commented'] + new_movies['shared'] + new_movies['liked']"
   ]
  },
  {
   "cell_type": "code",
   "execution_count": null,
   "metadata": {},
   "outputs": [],
   "source": [
    "#new_movies['new_event'].unique()"
   ]
  },
  {
   "cell_type": "code",
   "execution_count": null,
   "metadata": {},
   "outputs": [],
   "source": [
    "#vector = cv.fit_transform(new_movies['tags'].values.astype('U')).toarray()"
   ]
  },
  {
   "cell_type": "code",
   "execution_count": null,
   "metadata": {},
   "outputs": [],
   "source": [
    "#vector.shape"
   ]
  },
  {
   "cell_type": "code",
   "execution_count": null,
   "metadata": {},
   "outputs": [],
   "source": [
    "from sklearn.metrics.pairwise import cosine_similarity"
   ]
  },
  {
   "cell_type": "code",
   "execution_count": null,
   "metadata": {},
   "outputs": [],
   "source": [
    "similarity = cosine_similarity(new_movies.iloc[:,3:])"
   ]
  },
  {
   "cell_type": "code",
   "execution_count": null,
   "metadata": {},
   "outputs": [],
   "source": [
    "similarity"
   ]
  },
  {
   "cell_type": "code",
   "execution_count": null,
   "metadata": {},
   "outputs": [],
   "source": [
    "distance = sorted(list(enumerate(similarity[2])), reverse = True, key=lambda vector:vector[1])\n",
    "for i in distance[0:5]:\n",
    "    #print(i)\n",
    "    print(new_movies.iloc[i[0]].user_id)"
   ]
  },
  {
   "cell_type": "code",
   "execution_count": null,
   "metadata": {},
   "outputs": [],
   "source": [
    "def recommend(movies):\n",
    "    index = new_movies[new_movies['user_id'] == movies].index[0]\n",
    "    distance = sorted(list(enumerate(similarity[index])), reverse = True, key=lambda vector:vector[1])\n",
    "    for i in distance[0:5]:\n",
    "        print(new_movies.iloc[i[0]].item_id, new_movies.object_key)"
   ]
  },
  {
   "cell_type": "code",
   "execution_count": null,
   "metadata": {},
   "outputs": [],
   "source": [
    "recommend('27b0eb67497e35b7cfa94d21f04dac6a')"
   ]
  },
  {
   "cell_type": "code",
   "execution_count": null,
   "metadata": {},
   "outputs": [],
   "source": [
    "import pickle\n"
   ]
  },
  {
   "cell_type": "code",
   "execution_count": null,
   "metadata": {},
   "outputs": [],
   "source": [
    "pickle.dump(new_movies, open('movies.pkl', 'wb'))\n"
   ]
  },
  {
   "cell_type": "code",
   "execution_count": null,
   "metadata": {},
   "outputs": [],
   "source": [
    "pickle.dump(similarity, open('similarity.pkl', 'wb'))"
   ]
  },
  {
   "cell_type": "code",
   "execution_count": null,
   "metadata": {},
   "outputs": [],
   "source": [
    "pickle.load(open('movies.pkl', 'rb'))"
   ]
  }
 ],
 "metadata": {
  "kernelspec": {
   "display_name": "Python 3",
   "language": "python",
   "name": "python3"
  },
  "language_info": {
   "codemirror_mode": {
    "name": "ipython",
    "version": 3
   },
   "file_extension": ".py",
   "mimetype": "text/x-python",
   "name": "python",
   "nbconvert_exporter": "python",
   "pygments_lexer": "ipython3",
   "version": "3.8.5"
  }
 },
 "nbformat": 4,
 "nbformat_minor": 4
}
